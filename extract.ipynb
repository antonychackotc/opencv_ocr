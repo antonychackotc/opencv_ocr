{
 "cells": [
  {
   "cell_type": "code",
   "execution_count": 2,
   "id": "172de86c",
   "metadata": {},
   "outputs": [
    {
     "name": "stdout",
     "output_type": "stream",
     "text": [
      "Copied 136 images to 'image_only'\n"
     ]
    }
   ],
   "source": [
    "import glob\n",
    "import shutil\n",
    "import os\n",
    "\n",
    "source_folder = \"google_images\"\n",
    "destination_folder = \"image_only\"\n",
    "\n",
    "# Create destination folder if it doesn't exist\n",
    "os.makedirs(destination_folder, exist_ok=True)\n",
    "\n",
    "# Get all jpg and png files\n",
    "jpg_files = glob.glob(f\"{source_folder}/*.jpg\")\n",
    "png_files = glob.glob(f\"{source_folder}/*.png\")\n",
    "image_files = jpg_files + png_files\n",
    "\n",
    "# Copy each image to destination folder\n",
    "for image_path in image_files:\n",
    "    shutil.copy(image_path, destination_folder)\n",
    "\n",
    "print(f\"Copied {len(image_files)} images to '{destination_folder}'\")\n"
   ]
  },
  {
   "cell_type": "code",
   "execution_count": 3,
   "id": "533b6d4b",
   "metadata": {},
   "outputs": [
    {
     "name": "stdout",
     "output_type": "stream",
     "text": [
      "Copied 27 images to 'image_only'\n"
     ]
    }
   ],
   "source": [
    "import glob\n",
    "import shutil\n",
    "import os\n",
    "\n",
    "source_folder = \"Indian_Number_Plates\\Sample_Images\"\n",
    "destination_folder = \"image_only\"\n",
    "\n",
    "# Create destination folder if it doesn't exist\n",
    "os.makedirs(destination_folder, exist_ok=True)\n",
    "\n",
    "# Get all jpg and png files\n",
    "jpg_files = glob.glob(f\"{source_folder}/*.jpg\")\n",
    "png_files = glob.glob(f\"{source_folder}/*.png\")\n",
    "image_files = jpg_files + png_files\n",
    "\n",
    "# Copy each image to destination folder\n",
    "for image_path in image_files:\n",
    "    shutil.copy(image_path, destination_folder)\n",
    "\n",
    "print(f\"Copied {len(image_files)} images to '{destination_folder}'\")\n"
   ]
  },
  {
   "cell_type": "code",
   "execution_count": 5,
   "id": "be2b225b",
   "metadata": {},
   "outputs": [
    {
     "name": "stdout",
     "output_type": "stream",
     "text": [
      "Copied 20 images to 'image_only'\n"
     ]
    }
   ],
   "source": [
    "import glob\n",
    "import shutil\n",
    "import os\n",
    "\n",
    "source_folder = \"number_plate_images_ocr/number_plate_images_ocr\"\n",
    "destination_folder = \"image_only\"\n",
    "\n",
    "# Create destination folder if it doesn't exist\n",
    "os.makedirs(destination_folder, exist_ok=True)\n",
    "\n",
    "# Get all jpg and png files\n",
    "jpg_files = glob.glob(f\"{source_folder}/*.jpg\")\n",
    "png_files = glob.glob(f\"{source_folder}/*.png\")\n",
    "image_files = jpg_files + png_files\n",
    "\n",
    "# Copy each image to destination folder\n",
    "for image_path in image_files:\n",
    "    shutil.copy(image_path, destination_folder)\n",
    "\n",
    "print(f\"Copied {len(image_files)} images to '{destination_folder}'\")\n"
   ]
  },
  {
   "cell_type": "code",
   "execution_count": 6,
   "id": "11e24434",
   "metadata": {},
   "outputs": [
    {
     "name": "stdout",
     "output_type": "stream",
     "text": [
      "Copied 7 images to 'image_only'\n"
     ]
    }
   ],
   "source": [
    "import glob\n",
    "import shutil\n",
    "import os\n",
    "\n",
    "source_folder = \"State-wise_OLX\\AN\"\n",
    "destination_folder = \"image_only\"\n",
    "\n",
    "# Create destination folder if it doesn't exist\n",
    "os.makedirs(destination_folder, exist_ok=True)\n",
    "\n",
    "# Get all jpg and png files\n",
    "jpg_files = glob.glob(f\"{source_folder}/*.jpg\")\n",
    "png_files = glob.glob(f\"{source_folder}/*.png\")\n",
    "image_files = jpg_files + png_files\n",
    "\n",
    "# Copy each image to destination folder\n",
    "for image_path in image_files:\n",
    "    shutil.copy(image_path, destination_folder)\n",
    "\n",
    "print(f\"Copied {len(image_files)} images to '{destination_folder}'\")\n"
   ]
  },
  {
   "cell_type": "code",
   "execution_count": 7,
   "id": "cc450780",
   "metadata": {},
   "outputs": [
    {
     "name": "stdout",
     "output_type": "stream",
     "text": [
      "Copied 37 images to 'image_only'\n"
     ]
    }
   ],
   "source": [
    "import glob\n",
    "import shutil\n",
    "import os\n",
    "\n",
    "source_folder = \"State-wise_OLX\\AP\"\n",
    "destination_folder = \"image_only\"\n",
    "\n",
    "# Create destination folder if it doesn't exist\n",
    "os.makedirs(destination_folder, exist_ok=True)\n",
    "\n",
    "# Get all jpg and png files\n",
    "jpg_files = glob.glob(f\"{source_folder}/*.jpg\")\n",
    "png_files = glob.glob(f\"{source_folder}/*.png\")\n",
    "image_files = jpg_files + png_files\n",
    "\n",
    "# Copy each image to destination folder\n",
    "for image_path in image_files:\n",
    "    shutil.copy(image_path, destination_folder)\n",
    "\n",
    "print(f\"Copied {len(image_files)} images to '{destination_folder}'\")\n"
   ]
  },
  {
   "cell_type": "code",
   "execution_count": 43,
   "id": "601ca2c4",
   "metadata": {},
   "outputs": [
    {
     "name": "stdout",
     "output_type": "stream",
     "text": [
      "Copied 25 images to 'image_only'\n"
     ]
    }
   ],
   "source": [
    "import glob\n",
    "import shutil\n",
    "import os\n",
    "\n",
    "source_folder = \"State-wise_OLX\\WB\"\n",
    "destination_folder = \"image_only\"\n",
    "\n",
    "# Create destination folder if it doesn't exist\n",
    "os.makedirs(destination_folder, exist_ok=True)\n",
    "\n",
    "# Get all jpg and png files\n",
    "jpg_files = glob.glob(f\"{source_folder}/*.jpg\")\n",
    "png_files = glob.glob(f\"{source_folder}/*.png\")\n",
    "image_files = jpg_files + png_files\n",
    "\n",
    "# Copy each image to destination folder\n",
    "for image_path in image_files:\n",
    "    shutil.copy(image_path, destination_folder)\n",
    "\n",
    "print(f\"Copied {len(image_files)} images to '{destination_folder}'\")\n"
   ]
  },
  {
   "cell_type": "code",
   "execution_count": null,
   "id": "04e83be6",
   "metadata": {},
   "outputs": [],
   "source": []
  }
 ],
 "metadata": {
  "kernelspec": {
   "display_name": "indenv",
   "language": "python",
   "name": "python3"
  },
  "language_info": {
   "codemirror_mode": {
    "name": "ipython",
    "version": 3
   },
   "file_extension": ".py",
   "mimetype": "text/x-python",
   "name": "python",
   "nbconvert_exporter": "python",
   "pygments_lexer": "ipython3",
   "version": "3.11.0"
  }
 },
 "nbformat": 4,
 "nbformat_minor": 5
}
